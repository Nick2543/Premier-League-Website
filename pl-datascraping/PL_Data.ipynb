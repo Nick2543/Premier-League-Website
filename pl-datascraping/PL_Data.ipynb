{
 "cells": [
  {
   "cell_type": "code",
   "execution_count": 1,
   "id": "66ceeb12-d83d-40be-9eea-1fd6bfeda4b8",
   "metadata": {},
   "outputs": [],
   "source": [
    "from bs4 import BeautifulSoup\n",
    "import pandas as pd\n",
    "import requests\n",
    "import time\n",
    "\n",
    "teams = [] ## list to store all teams\n",
    "\n",
    "html = requests.get('https://fbref.com/en/comps/9/2023-2024/2023-2024-Premier-League-Stats').text ##getting the html from the website\n",
    "soup = BeautifulSoup(html, 'lxml')\n",
    "table = soup.find_all('table', class_ = 'stats_table')[0] ##only want the first table, therefore the first index\n",
    "\n",
    "links = table.find_all('a') ## finding all links in the table \n",
    "links = [l.get(\"href\") for l in links] ##parsing through links\n",
    "links = [l for l in links if '/squads/' in l] ##filtering through links to only get squads\n",
    "\n",
    "team_urls = [f\"https://fbref.com{l}\" for l in links] ## formatting back to links\n",
    "\n",
    "for team_url in team_urls: \n",
    "    team_name = team_url.split(\"/\")[-1].replace(\"-Stats\", \"\") ##isolating the names of the teams\n",
    "    data = requests.get(team_url).text\n",
    "    soup = BeautifulSoup(data, 'lxml')\n",
    "    stats = soup.find_all('table', class_ = \"stats_table\")[0] ##again, only want the first table\n",
    "\n",
    "    if stats and stats.columns: stats.columns = stats.columns.droplevel() ##formatting the stats\n",
    "\n",
    "    # Assuming 'team_data' is a BeautifulSoup Tag\n",
    "    # Convert it into a DataFrame\n",
    "    team_data = pd.read_html(str(stats))[0]\n",
    "    team_data[\"Team\"]= team_name\n",
    "    teams.append(team_data) ## appending the data\n",
    "    time.sleep(5) ## making sure we don't get blocked from scraping by delaying each loop by 5 seconds\n",
    "\n",
    "\n",
    "stat_df = pd.concat(teams) ## concatenating all of the stats\n",
    "stat_df.to_csv(\"PL_league_stats.csv\") ## importing to csv"
   ]
  },
  {
   "cell_type": "code",
   "execution_count": null,
   "id": "0df22be1-c431-4700-a94f-b5b31aabc254",
   "metadata": {},
   "outputs": [],
   "source": []
  }
 ],
 "metadata": {
  "kernelspec": {
   "display_name": "Python 3 (ipykernel)",
   "language": "python",
   "name": "python3"
  },
  "language_info": {
   "codemirror_mode": {
    "name": "ipython",
    "version": 3
   },
   "file_extension": ".py",
   "mimetype": "text/x-python",
   "name": "python",
   "nbconvert_exporter": "python",
   "pygments_lexer": "ipython3",
   "version": "3.11.5"
  }
 },
 "nbformat": 4,
 "nbformat_minor": 5
}
